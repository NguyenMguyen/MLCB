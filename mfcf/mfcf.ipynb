{
 "cells": [
  {
   "cell_type": "code",
   "execution_count": 1,
   "metadata": {},
   "outputs": [],
   "source": [
    "import pandas as pd\n",
    "import numpy as np\n",
    "from sklearn.metrics.pairwise import cosine_similarity"
   ]
  },
  {
   "cell_type": "code",
   "execution_count": 3,
   "metadata": {},
   "outputs": [],
   "source": [
    "class MF(object):\n",
    "    def __init__(self, Y, K, lam=0.1, Xinit=None, Winit=None, learning_rate=0.5, max_iter=1000, print_every=100):\n",
    "        self.Y = Y\n",
    "        self.K = K\n",
    "        self.lam = lam\n",
    "        self.learning_rate = learning_rate\n",
    "        self.max_iter = max_iter\n",
    "        self.print_every = print_every\n",
    "        self.n_users = int(np.max(self.Y[:, 0])) + 1\n",
    "        self.n_items = int(np.max(self.Y[:, 1])) + 1\n",
    "        self.n_ratings = Y.shape[0]\n",
    "        self.X = np.random.randn(self.n_items, K) if Xinit is None else Xinit\n",
    "        self.W = np.random.randn(K, self.n_users) if Winit is None else Winit\n",
    "        self.b = np.random.randn(self.n_items)\n",
    "        self.d = np.random.randn(self.n_users)\n",
    "\n",
    "    def loss(self):\n",
    "        L = 0\n",
    "        for i in range(self.n_ratings):\n",
    "            n = int(self.Y[i, 0])\n",
    "            m = int(self.Y[i, 1])\n",
    "            rating = self.Y[i, 2]\n",
    "            L += 0.5*(self.X[m].dot(self.W[:, n]) +\n",
    "                      self.d[n] + self.b[m] - rating)**2\n",
    "\n",
    "        L /= self.n_ratings\n",
    "        # regularization\n",
    "        return L + 0.5*self.lam*(np.sum(self.W**2) + np.sum(self.X**2))\n",
    "\n",
    "    def updateXb(self):\n",
    "        for m in range(self.n_items):\n",
    "            # get all users who rated item m and corresponding ratings\n",
    "            ids = np.where(self.Y[:, 1] == m)[0]\n",
    "            user_ids = self.Y[ids, 0].astype(np.int32)\n",
    "            ratings = self.Y[ids, 2]\n",
    "            Wm = self.W[:, user_ids]\n",
    "            dm = self.d[user_ids]\n",
    "            for i in range(30):\n",
    "                xm = self.X[m]\n",
    "                error = xm.dot(Wm) + self.b[m] + dm - ratings\n",
    "                grad_xm = error.dot(Wm.T)/self.n_ratings + self.lam*xm\n",
    "                grad_bm = np.sum(error)/self.n_ratings\n",
    "                # gradient descent\n",
    "                self.X[m] -= self.learning_rate*grad_xm.reshape(-1)\n",
    "                self.b[m] -= self.learning_rate*grad_bm\n",
    "\n",
    "    def updateWd(self):\n",
    "        for n in range(self.n_users):\n",
    "            # get all items rated by user n, and the corresponding ratings\n",
    "            ids = np.where(self.Y[:, 0] == n)[0]\n",
    "            item_ids = self.Y[ids, 1].astype(np.int32)\n",
    "            ratings = self.Y[ids, 2]\n",
    "            Xn = self.X[item_ids]\n",
    "            bn = self.b[item_ids]\n",
    "            for i in range(30):\n",
    "                wn = self.W[:, n]\n",
    "                error = Xn.dot(wn) + bn + self.d[n] - ratings\n",
    "                grad_wn = Xn.T.dot(error)/self.n_ratings + self.lam*wn\n",
    "                grad_dn = np.sum(error)/self.n_ratings\n",
    "                # gradient descent\n",
    "                self.W[:, n] -= self.learning_rate*grad_wn.reshape(-1)\n",
    "                self.d[n] -= self.learning_rate*grad_dn\n",
    "\n",
    "    def fit(self):\n",
    "        for it in range(self.max_iter):\n",
    "            self.updateWd()\n",
    "            self.updateXb()\n",
    "            if (it+1) % self.print_every == 0:\n",
    "                rmse_train = self.evaluate_RMSE(self.Y)\n",
    "                print('iter = %d, loss = %.4f, RMSE train = %.4f' %\n",
    "                      (it + 1, self.loss(), rmse_train))\n",
    "\n",
    "    def pred(self, u, i):\n",
    "        u, i = int(u), int(i)\n",
    "        pred = self.X[i, :].dot(self.W[:, u]) + self.b[i] + self.d[u]\n",
    "        return max(0, min(5, pred))\n",
    "\n",
    "    def evaluate_RMSE(self, rate_test):\n",
    "        n_tests = rate_test.shape[0]\n",
    "        SE = 0\n",
    "        for n in range(n_tests):\n",
    "            pred = self.pred(rate_test[n, 0], rate_test[n, 1])\n",
    "            SE += (pred - rate_test[n, 2])**2\n",
    "        RMSE = np.sqrt(SE/n_tests)\n",
    "        return RMSE"
   ]
  },
  {
   "cell_type": "markdown",
   "metadata": {},
   "source": [
    "## MovieLens"
   ]
  },
  {
   "cell_type": "code",
   "execution_count": 4,
   "metadata": {},
   "outputs": [],
   "source": [
    "r_cols = ['user_id', 'movie_id', 'rating', 'unix_timestamp']\n",
    "\n",
    "ratings_base = pd.read_csv('ml-100k/ua.base', sep='\\t', names=r_cols)\n",
    "ratings_test = pd.read_csv('ml-100k/ua.test', sep='\\t', names=r_cols)\n",
    "\n",
    "rate_train = ratings_base.to_numpy()\n",
    "rate_test = ratings_test.to_numpy()\n",
    "\n",
    "# indices start from 0\n",
    "rate_train[:, :2] -= 1\n",
    "rate_test[:, :2] -= 1"
   ]
  },
  {
   "cell_type": "code",
   "execution_count": 5,
   "metadata": {},
   "outputs": [
    {
     "name": "stdout",
     "output_type": "stream",
     "text": [
      "iter = 5, loss = 0.4446, RMSE train = 0.9427\n",
      "iter = 10, loss = 0.4217, RMSE train = 0.9182\n",
      "iter = 15, loss = 0.4176, RMSE train = 0.9137\n",
      "iter = 20, loss = 0.4163, RMSE train = 0.9123\n",
      "iter = 25, loss = 0.4157, RMSE train = 0.9116\n",
      "iter = 30, loss = 0.4154, RMSE train = 0.9112\n",
      "\n",
      "Matrix Factorization CF, RMSE = 0.9619\n"
     ]
    }
   ],
   "source": [
    "rs = MF(rate_train, K = 50, lam = .01, print_every = 5, learning_rate = 50, max_iter = 30)\n",
    "rs.fit()\n",
    "# evaluate on test data\n",
    "RMSE = rs.evaluate_RMSE(rate_test)\n",
    "print('\\nMatrix Factorization CF, RMSE = %.4f' %RMSE)"
   ]
  },
  {
   "cell_type": "code",
   "execution_count": null,
   "metadata": {},
   "outputs": [],
   "source": []
  }
 ],
 "metadata": {
  "kernelspec": {
   "display_name": "Python 3.10.4 64-bit",
   "language": "python",
   "name": "python3"
  },
  "language_info": {
   "codemirror_mode": {
    "name": "ipython",
    "version": 3
   },
   "file_extension": ".py",
   "mimetype": "text/x-python",
   "name": "python",
   "nbconvert_exporter": "python",
   "pygments_lexer": "ipython3",
   "version": "3.10.4"
  },
  "orig_nbformat": 4,
  "vscode": {
   "interpreter": {
    "hash": "31671a60cee805c34c73116577b485118ff3a75c458d3004d49632c19702ac60"
   }
  }
 },
 "nbformat": 4,
 "nbformat_minor": 2
}
