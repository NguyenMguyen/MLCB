{
 "cells": [
  {
   "cell_type": "code",
   "execution_count": 1,
   "metadata": {},
   "outputs": [],
   "source": [
    "from sklearn.naive_bayes import MultinomialNB\n",
    "import numpy as np"
   ]
  },
  {
   "cell_type": "code",
   "execution_count": 2,
   "metadata": {},
   "outputs": [
    {
     "name": "stdout",
     "output_type": "stream",
     "text": [
      "Predicting class of d5: B\n",
      "Probability of d6 in each class: [[0.29175335 0.70824665]]\n"
     ]
    }
   ],
   "source": [
    "# train data\n",
    "d1 = [2, 1, 1, 0, 0, 0, 0, 0, 0]\n",
    "d2 = [1, 1, 0, 1, 1, 0, 0, 0, 0]\n",
    "d3 = [0, 1, 0, 0, 1, 1, 0, 0, 0]\n",
    "d4 = [0, 1, 0, 0, 0, 0, 1, 1, 1]\n",
    "\n",
    "train_data = np.array([d1, d2, d3, d4])\n",
    "label = np.array(['B', 'B', 'B', 'N'])\n",
    "\n",
    "# test data\n",
    "d5 = np.array([[2, 0, 0, 1, 0, 0, 0, 1, 0]])\n",
    "d6 = np.array([[0, 1, 0, 0, 0, 0, 0, 1, 1]])\n",
    "\n",
    "# call multinomidal nb\n",
    "clf = MultinomialNB()\n",
    "# training\n",
    "clf.fit(train_data, label)\n",
    "\n",
    "# test\n",
    "print('Predicting class of d5:', clf.predict(d5)[0])\n",
    "print('Probability of d6 in each class:', clf.predict_proba(d6))"
   ]
  },
  {
   "cell_type": "code",
   "execution_count": 3,
   "metadata": {},
   "outputs": [],
   "source": [
    "# with BernoulliNB\n",
    "from sklearn.naive_bayes import BernoulliNB"
   ]
  },
  {
   "cell_type": "code",
   "execution_count": 4,
   "metadata": {},
   "outputs": [
    {
     "name": "stdout",
     "output_type": "stream",
     "text": [
      "Predicting class of d5: B\n",
      "Probability of d6 in each class: [[0.16948581 0.83051419]]\n"
     ]
    }
   ],
   "source": [
    "# train data\n",
    "d1 = [1, 1, 1, 0, 0, 0, 0, 0, 0]\n",
    "d2 = [1, 1, 0, 1, 1, 0, 0, 0, 0]\n",
    "d3 = [0, 1, 0, 0, 1, 1, 0, 0, 0]\n",
    "d4 = [0, 1, 0, 0, 0, 0, 1, 1, 1]\n",
    "\n",
    "train_data = np.array([d1, d2, d3, d4])\n",
    "label = np.array(['B', 'B', 'B', 'N']) # 0 - B, 1 - N \n",
    "\n",
    "# test data\n",
    "d5 = np.array([[1, 0, 0, 1, 0, 0, 0, 1, 0]])\n",
    "d6 = np.array([[0, 1, 0, 0, 0, 0, 0, 1, 1]])\n",
    "\n",
    "## call MultinomialNB\n",
    "clf = BernoulliNB()\n",
    "# training \n",
    "clf.fit(train_data, label)\n",
    "\n",
    "# test\n",
    "print('Predicting class of d5:', str(clf.predict(d5)[0]))\n",
    "print('Probability of d6 in each class:', clf.predict_proba(d6))"
   ]
  },
  {
   "cell_type": "markdown",
   "metadata": {},
   "source": [
    "# classifying spam email"
   ]
  },
  {
   "cell_type": "code",
   "execution_count": 1,
   "metadata": {},
   "outputs": [],
   "source": [
    "import numpy as np\n",
    "from scipy.sparse import coo_matrix # for sparse matrix\n",
    "from sklearn.naive_bayes import MultinomialNB, BernoulliNB\n",
    "from sklearn.metrics import accuracy_score # for evaluating results"
   ]
  },
  {
   "cell_type": "code",
   "execution_count": 2,
   "metadata": {},
   "outputs": [],
   "source": [
    "# data path and file name \n",
    "path = 'data/'\n",
    "train_data_fn = 'train-features.txt'\n",
    "test_data_fn = 'test-features.txt'\n",
    "train_label_fn = 'train-labels.txt'\n",
    "test_label_fn = 'test-labels.txt'"
   ]
  },
  {
   "cell_type": "code",
   "execution_count": 3,
   "metadata": {},
   "outputs": [],
   "source": [
    "nwords = 2500\n",
    "\n",
    "def read_data(data_fn, label_fn):\n",
    "    # read label_fn\n",
    "    with open(path + label_fn) as f:\n",
    "        content = f.readlines()\n",
    "    label = [int(x.strip()) for x in content]\n",
    "\n",
    "    # read data_fn\n",
    "    with open(path + data_fn) as f:\n",
    "        content = f.readlines()\n",
    "    # remove '\\n' at the end of each line\n",
    "    content = [x.strip() for x in content]\n",
    "\n",
    "    dat = np.zeros((len(content), 3), dtype=int)\n",
    "\n",
    "    for i, line in enumerate(content):\n",
    "        a = line.split(' ')\n",
    "        dat[i, :] = np.array([int(a[0]), int(a[1]), int(a[2])])\n",
    "\n",
    "    # remember to -1 at coordinate since we're in Python\n",
    "    # check this: https://docs.scipy.org/doc/scipy/reference/generated/scipy.sparse.coo_matrix.html\n",
    "    # for more information about coo_matrix function\n",
    "    data = coo_matrix(\n",
    "        (dat[:, 2], (dat[:, 0] - 1, dat[:, 1] - 1)), shape=(len(label), nwords))\n",
    "    return (data, label)"
   ]
  },
  {
   "cell_type": "code",
   "execution_count": 4,
   "metadata": {},
   "outputs": [],
   "source": [
    "(train_data, train_label) = read_data(train_data_fn, train_label_fn)\n",
    "(test_data, test_label) = read_data(test_data_fn, test_label_fn)"
   ]
  },
  {
   "cell_type": "code",
   "execution_count": 12,
   "metadata": {},
   "outputs": [
    {
     "name": "stdout",
     "output_type": "stream",
     "text": [
      "Training size = 700, accuracy = 98.08%\n"
     ]
    }
   ],
   "source": [
    "clf = MultinomialNB()\n",
    "clf.fit(train_data, train_label)\n",
    "y_pred = clf.predict(test_data)\n",
    "\n",
    "print('Training size = %d, accuracy = %.2f%%' %\n",
    "      (train_data.shape[0], accuracy_score(test_label, y_pred)*100))\n"
   ]
  },
  {
   "cell_type": "markdown",
   "metadata": {},
   "source": [
    "### tiếp tục với bộ dữ liệu nhỏ hơn"
   ]
  },
  {
   "cell_type": "code",
   "execution_count": 13,
   "metadata": {},
   "outputs": [
    {
     "name": "stdout",
     "output_type": "stream",
     "text": [
      "Training size = 100, accuracy = 97.69%\n",
      "Training size = 50, accuracy = 97.31%\n"
     ]
    }
   ],
   "source": [
    "train_data_fn = 'train-features-100.txt'\n",
    "train_label_fn = 'train-labels-100.txt'\n",
    "test_data_fn = 'test-features.txt'\n",
    "test_label_fn = 'test-labels.txt'\n",
    "\n",
    "(train_data, train_label) = read_data(train_data_fn, train_label_fn)\n",
    "(test_data, test_label) = read_data(test_data_fn, test_label_fn)\n",
    "clf = MultinomialNB()\n",
    "clf.fit(train_data, train_label)\n",
    "y_pred = clf.predict(test_data)\n",
    "print('Training size = %d, accuracy = %.2f%%' %\n",
    "      (train_data.shape[0], accuracy_score(test_label, y_pred)*100))\n",
    "\n",
    "train_data_fn = 'train-features-50.txt'\n",
    "train_label_fn = 'train-labels-50.txt'\n",
    "test_data_fn = 'test-features.txt'\n",
    "test_label_fn = 'test-labels.txt'\n",
    "\n",
    "(train_data, train_label) = read_data(train_data_fn, train_label_fn)\n",
    "(test_data, test_label) = read_data(test_data_fn, test_label_fn)\n",
    "clf = MultinomialNB()\n",
    "clf.fit(train_data, train_label)\n",
    "y_pred = clf.predict(test_data)\n",
    "print('Training size = %d, accuracy = %.2f%%' %\n",
    "      (train_data.shape[0], accuracy_score(test_label, y_pred)*100))\n"
   ]
  },
  {
   "cell_type": "markdown",
   "metadata": {},
   "source": [
    "### mô hình bernoulli"
   ]
  },
  {
   "cell_type": "code",
   "execution_count": 14,
   "metadata": {},
   "outputs": [
    {
     "name": "stdout",
     "output_type": "stream",
     "text": [
      "Training size = 700, accuracy = 85.38%\n",
      "Training size = 100, accuracy = 78.08%\n",
      "Training size = 50, accuracy = 69.62%\n"
     ]
    }
   ],
   "source": [
    "clf = BernoulliNB(binarize=.5)\n",
    "\n",
    "train_data_fn = ['train-features.txt',\n",
    "                 'train-features-100.txt', 'train-features-50.txt']\n",
    "train_label_fn = ['train-labels.txt',\n",
    "                  'train-labels-100.txt', 'train-labels-50.txt']\n",
    "for i in range(3):\n",
    "    (train_data, train_label) = read_data(train_data_fn[i], train_label_fn[i])\n",
    "    clf.fit(train_data, train_label)\n",
    "    y_pred = clf.predict(test_data)\n",
    "    print('Training size = %d, accuracy = %.2f%%' %\n",
    "          (train_data.shape[0], accuracy_score(test_label, y_pred)*100))\n"
   ]
  },
  {
   "cell_type": "code",
   "execution_count": null,
   "metadata": {},
   "outputs": [],
   "source": []
  }
 ],
 "metadata": {
  "kernelspec": {
   "display_name": "Python 3.10.4 64-bit",
   "language": "python",
   "name": "python3"
  },
  "language_info": {
   "codemirror_mode": {
    "name": "ipython",
    "version": 3
   },
   "file_extension": ".py",
   "mimetype": "text/x-python",
   "name": "python",
   "nbconvert_exporter": "python",
   "pygments_lexer": "ipython3",
   "version": "3.10.4"
  },
  "orig_nbformat": 4,
  "vscode": {
   "interpreter": {
    "hash": "31671a60cee805c34c73116577b485118ff3a75c458d3004d49632c19702ac60"
   }
  }
 },
 "nbformat": 4,
 "nbformat_minor": 2
}
