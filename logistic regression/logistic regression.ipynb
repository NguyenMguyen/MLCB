{
 "cells": [
  {
   "cell_type": "code",
   "execution_count": 5,
   "metadata": {},
   "outputs": [],
   "source": [
    "import numpy as np\n",
    "import matplotlib.pyplot as plt\n",
    "from __future__ import print_function \n"
   ]
  },
  {
   "cell_type": "code",
   "execution_count": 17,
   "metadata": {},
   "outputs": [
    {
     "data": {
      "image/png": "[encoded data removed]",
      "text/plain": [
       "<Figure size 432x288 with 1 Axes>"
      ]
     },
     "metadata": {
      "needs_background": "light"
     },
     "output_type": "display_data"
    }
   ],
   "source": [
    "X0 = np.array([.5, .75, 1, 1.25, 1.5, 1.75, 2, 2.5, 3, 3.5])\n",
    "y0 = np.zeros_like(X0)\n",
    "\n",
    "X1 = np.array([1.75, 2.25, 2.75, 3.25, 4, 4.25, 4.5, 4.75, 5, 5.5])\n",
    "y1 = np.ones_like(X1)\n",
    "\n",
    "plt.plot(X0, y0, 'ro', markersize=8)\n",
    "plt.plot(X1, y1, 'bs', markersize=8)\n",
    "\n",
    "plt.axis([0, 6, -.5, 1.5])\n",
    "cur_axes = plt.gca()\n",
    "plt.xlabel('hours studying', fontsize=14)\n",
    "plt.ylabel('fail(0) / pass(1)', fontsize=14)\n",
    "cur_axes.axes.get_yaxis().set_ticks([0, 1])\n",
    "# plt.axes().set_aspect('3')\n",
    "plt.tick_params(axis='both', which='major', labelsize=14)\n",
    "\n",
    "# plt.savefig(filename, bbox_inches='tight')\n",
    "plt.show()\n"
   ]
  },
  {
   "cell_type": "code",
   "execution_count": 18,
   "metadata": {},
   "outputs": [
    {
     "data": {
      "image/png": "[encoded data removed]",
      "text/plain": [
       "<Figure size 432x288 with 1 Axes>"
      ]
     },
     "metadata": {
      "needs_background": "light"
     },
     "output_type": "display_data"
    }
   ],
   "source": [
    "x = np.linspace(-5, 5, 1000)\n",
    "y1 = (np.sign(x) + 1)/2\n",
    "y2 = 1./(1 + np.exp(-x))\n",
    "y3 = np.exp(x) / (np.exp(x) + np.exp(-x))\n",
    "\n",
    "l1, = plt.plot(x, y1, 'r', linewidth=2, label=\"hard threshold\")\n",
    "l2, = plt.plot(x, y2, 'b', linewidth=2, label=\"$f(s) = \\\\frac{1}{1 + e^{-s}}$\")\n",
    "l3, = plt.plot(x, y3, 'g', linewidth=2,\n",
    "               label=\"$f(s) = \\\\frac{e^{s}}{e^{s} + e^{-s}}$\")\n",
    "l4, = plt.plot([-1, 1], [-1, 2], 'y', linewidth=2, label=\"linear\")\n",
    "plt.plot([-4, 0], [1, 1], 'k--')\n",
    "\n",
    "# handles, labels = ax.get_legend_handles_labels()\n",
    "plt.legend(handles=[l1, l2, l3, l4], fontsize=12)\n",
    "\n",
    "cur_axes = plt.gca()\n",
    "cur_axes.axes.get_xaxis().set_ticks([])\n",
    "cur_axes.axes.get_yaxis().set_ticks([0, 1])\n",
    "\n",
    "plt.axis([-3, 5, -.6, 1.6])\n",
    "# plt.axes().set_aspect('2')\n",
    "plt.tick_params(labelsize=14)\n",
    "# plt.savefig('activation.png', bbox_inches='tight', dpi = 300)\n",
    "# pdf.savefig(bbox_inches='tight')\n",
    "plt.show()\n",
    "\n",
    "plt.close(\"all\")\n"
   ]
  },
  {
   "cell_type": "markdown",
   "metadata": {},
   "source": [
    "# Ví dụ với dữ liệu 1 chiều"
   ]
  },
  {
   "cell_type": "code",
   "execution_count": 42,
   "metadata": {},
   "outputs": [],
   "source": [
    "np.random.seed(2)\n",
    "X = np.array([[0.50, 0.75, 1.00, 1.25, 1.50, 1.75, 1.75, 2.00, 2.25, 2.50,\n",
    "              2.75, 3.00, 3.25, 3.50, 4.00, 4.25, 4.50, 4.75, 5.00, 5.50]]).T\n",
    "y = np.array([0, 0, 0, 0, 0, 0, 1, 0, 1, 0, 1, 0, 1, 0, 1, 1, 1, 1, 1, 1])\n",
    "\n",
    "# extened data\n",
    "Xbar = np.concatenate((X, np.ones((X.shape[0], 1))), axis=1)"
   ]
  },
  {
   "cell_type": "markdown",
   "metadata": {},
   "source": [
    "Các hàm cần thiết cho logistic sigmoid regression"
   ]
  },
  {
   "cell_type": "code",
   "execution_count": 36,
   "metadata": {},
   "outputs": [],
   "source": [
    "def sigmoid(S):\n",
    "    \"\"\"\n",
    "    S: an numpy array\n",
    "    return sigmoid function of each element of S\n",
    "    \"\"\"\n",
    "    return 1/(1+np.exp(-S))\n",
    "\n",
    "\n",
    "def prob(w, X):\n",
    "    \"\"\"\n",
    "    X: a 2d numpy array of shape (N, d). N datatpoint, each with size d\n",
    "    w: a 1d numpy array of shape (d)\n",
    "    \"\"\"\n",
    "    return sigmoid(X.dot(w))\n",
    "\n",
    "\n",
    "def loss(w, X, y, lam):\n",
    "    \"\"\"\n",
    "    X, w as in prob \n",
    "    y: a 1d numpy array of shape (N). Each elem = 0 or 1 \n",
    "    \"\"\"\n",
    "    a = prob(w, X)\n",
    "    loss_0 = -np.mean(y*np.log(a) + (1-y)*np.log(1-a))\n",
    "    weight_decay = 0.5/X.shape[0] * lam * np.sum(w*w)\n",
    "    return loss_0 + weight_decay\n",
    "\n",
    "\n",
    "def logistic_regression(w_init, X, y, lam, lr=0.1, nepoches=2000):\n",
    "    # lam - regularization paramether, lr - learning rate, nepoches - number of epoches\n",
    "    N, d = X.shape[0], X.shape[1]\n",
    "    w = w_old = w_init\n",
    "\n",
    "    # store history of loss in loss_hist\n",
    "    loss_hist = [loss(w_init, X, y, lam)]\n",
    "    ep = 0\n",
    "    while ep < nepoches:\n",
    "        ep += 1\n",
    "        mix_ids = np.random.permutation(N)\n",
    "        for i in mix_ids:\n",
    "            xi = X[i]\n",
    "            yi = y[i]\n",
    "            ai = sigmoid(xi.dot(w))\n",
    "            # update\n",
    "            w = w - lr*((ai - yi)*xi + lam*w)\n",
    "        loss_hist.append(loss(w, X, y, lam))\n",
    "        if np.linalg.norm(w - w_old)/d < 1e-6:\n",
    "            break\n",
    "        w_old = w\n",
    "    return w, loss_hist\n",
    "\n",
    "def predict(w, X, threshold=0.5):\n",
    "    \"\"\"\n",
    "    predict output of each row of X\n",
    "    X: a numpy array of shape\n",
    "    threshold: a threshold between 0 and 1 \n",
    "    \"\"\"\n",
    "    res = np.zeros(X)\n",
    "    res[np.where(prob(w, X) > threshold)[0]] = 1\n",
    "    return res"
   ]
  },
  {
   "cell_type": "code",
   "execution_count": 43,
   "metadata": {},
   "outputs": [
    {
     "name": "stdout",
     "output_type": "stream",
     "text": [
      "Solution of Logistic Regression: [ 1.54337021 -4.06486702]\n",
      "Final loss: 0.40244672497461936\n"
     ]
    }
   ],
   "source": [
    "w_init = np.random.randn(Xbar.shape[1])\n",
    "lam = 0.0001\n",
    "w, loss_hist = logistic_regression(w_init, Xbar, y, lam, lr=0.05, nepoches=500)\n",
    "print('Solution of Logistic Regression:', w)\n",
    "print('Final loss:', loss(w, Xbar, y, lam))"
   ]
  },
  {
   "cell_type": "code",
   "execution_count": 38,
   "metadata": {},
   "outputs": [
    {
     "data": {
      "image/png": "[encoded data removed]",
      "text/plain": [
       "<Figure size 432x288 with 1 Axes>"
      ]
     },
     "metadata": {
      "needs_background": "light"
     },
     "output_type": "display_data"
    }
   ],
   "source": [
    "plt.plot(loss_hist)\n",
    "plt.xlabel('number of iterations', fontsize=13)\n",
    "plt.ylabel('loss function', fontsize=13)\n",
    "plt.tick_params(axis='both', which='major', labelsize=13)\n",
    "# plt.savefig(bbox_inches='tight')\n",
    "plt.show()"
   ]
  },
  {
   "cell_type": "markdown",
   "metadata": {},
   "source": [
    "sklearn"
   ]
  },
  {
   "cell_type": "code",
   "execution_count": 44,
   "metadata": {},
   "outputs": [
    {
     "name": "stdout",
     "output_type": "stream",
     "text": [
      "[ 1.50461548 -4.07763981]\n",
      "0.40154115081085046\n"
     ]
    }
   ],
   "source": [
    "from sklearn.linear_model import LogisticRegression \n",
    "model = LogisticRegression(C = 2/lam)\n",
    "model.fit(X, y)\n",
    "w2 = np.array([model.coef_[0][0], model.intercept_[0]])\n",
    "print(w2)\n",
    "print(loss(w2, Xbar, y, lam))"
   ]
  },
  {
   "cell_type": "code",
   "execution_count": 47,
   "metadata": {},
   "outputs": [
    {
     "data": {
      "image/png": "[encoded data removed]",
      "text/plain": [
       "<Figure size 432x288 with 1 Axes>"
      ]
     },
     "metadata": {
      "needs_background": "light"
     },
     "output_type": "display_data"
    }
   ],
   "source": [
    "X0 = np.array([.5, .75, 1, 1.25, 1.5, 1.75, 2, 2.5, 3, 3.5])\n",
    "y0 = np.zeros_like(X0)\n",
    "\n",
    "X1 = np.array([1.75, 2.25, 2.75, 3.25, 4, 4.25, 4.5, 4.75, 5, 5.5])\n",
    "y1 = np.ones_like(X1)\n",
    "\n",
    "plt.plot(X0, y0, 'ro', markersize = 8)\n",
    "plt.plot(X1, y1, 'bs', markersize = 8)\n",
    "\n",
    "plt.axis([0, 6, -.5, 1.5])\n",
    "cur_axes = plt.gca()\n",
    "plt.xlabel('hours studying', fontsize = 14)\n",
    "plt.ylabel('fail(0) / pass(1)', fontsize = 14)\n",
    "cur_axes.axes.get_yaxis().set_ticks([0, 1])\n",
    "# plt.axes().set_aspect('equal')\n",
    "plt.tick_params(axis='both', which='major', labelsize=14)\n",
    "plt.plot(X.reshape(-1), prob(w, Xbar), 'g^')\n",
    "# pdf.savefig(bbox_inches='tight')\n",
    "plt.show()"
   ]
  },
  {
   "cell_type": "code",
   "execution_count": 49,
   "metadata": {},
   "outputs": [
    {
     "data": {
      "image/png": "[encoded data removed]",
      "text/plain": [
       "<Figure size 432x288 with 1 Axes>"
      ]
     },
     "metadata": {
      "needs_background": "light"
     },
     "output_type": "display_data"
    }
   ],
   "source": [
    "plt.plot(X0, y0, 'ro', markersize=8, markeredgecolor='k')\n",
    "plt.plot(X1, y1, 'bs', markersize=8, markeredgecolor='k')\n",
    "\n",
    "xx = np.linspace(0, 6, 1000)\n",
    "w0 = w[0]\n",
    "w1 = w[1]\n",
    "threshold = -w1/w0\n",
    "yy = sigmoid(w1 + w0*xx)\n",
    "\n",
    "plt.plot(xx, yy, 'g-', linewidth=2)\n",
    "plt.plot(threshold, .5, 'y^', markersize=8, markeredgecolor='k')\n",
    "plt.xlabel('studying hours', fontsize=13)\n",
    "plt.ylabel('predicted probability of pass', fontsize=13)\n",
    "plt.axis([0, 6, -.5, 1.5])\n",
    "plt.tick_params(axis='both', which='major', labelsize=13)\n",
    "# pdf.savefig(bbox_inches='tight')\n",
    "plt.show()\n"
   ]
  },
  {
   "cell_type": "markdown",
   "metadata": {},
   "source": [
    "# Với dữ liệu 2 chiều"
   ]
  },
  {
   "cell_type": "code",
   "execution_count": 51,
   "metadata": {},
   "outputs": [
    {
     "data": {
      "image/png": "[encoded data removed]",
      "text/plain": [
       "<Figure size 432x288 with 1 Axes>"
      ]
     },
     "metadata": {
      "needs_background": "light"
     },
     "output_type": "display_data"
    }
   ],
   "source": [
    "import numpy as np\n",
    "import matplotlib.pyplot as plt\n",
    "from scipy.spatial.distance import cdist\n",
    "np.random.seed(22)\n",
    "\n",
    "means = [[2, 2], [4, 2]]\n",
    "cov = [[.7, 0], [0, .7]]\n",
    "N = 20\n",
    "X0 = np.random.multivariate_normal(means[0], cov, N)\n",
    "X1 = np.random.multivariate_normal(means[1], cov, N)\n",
    "\n",
    "# filename = 'logistic_2d.pdf'\n",
    "# with PdfPages(filename) as pdf:\n",
    "plt.plot(X0[:, 0], X0[:, 1], 'bs', markersize=8, alpha=1)\n",
    "plt.plot(X1[:, 0], X1[:, 1], 'ro', markersize=8, alpha=1)\n",
    "plt.axis('equal')\n",
    "plt.ylim(0, 4)\n",
    "plt.xlim(0, 5)\n",
    "\n",
    "# hide tikcs\n",
    "# cur_axes = plt.gca()\n",
    "# cur_axes.axes.get_xaxis().set_ticks([])\n",
    "# cur_axes.axes.get_yaxis().set_ticks([])\n",
    "\n",
    "plt.xlabel('$x_1$', fontsize=20)\n",
    "plt.ylabel('$x_2$', fontsize=20)\n",
    "# pdf.savefig(bbox_inches='tight')\n",
    "plt.show()\n"
   ]
  },
  {
   "cell_type": "code",
   "execution_count": 61,
   "metadata": {},
   "outputs": [
    {
     "name": "stdout",
     "output_type": "stream",
     "text": [
      "[-10.66264599   2.52223244   1.64178027]\n"
     ]
    }
   ],
   "source": [
    "X = np.concatenate((X0, X1), axis=0)\n",
    "y = np.concatenate((np.zeros((1, X0.shape[0])), np.ones((1, X1.shape[0]))), axis=1).T\n",
    "\n",
    "Xbar = np.concatenate((np.ones((2*N, 1)), X), axis=1)\n",
    "\n",
    "d = Xbar.shape[1]\n",
    "w_init = np.random.randn(d)\n",
    "w, losst_hist = logistic_regression(w_init, Xbar, y, lam, lr=0.05, nepoches=500)\n",
    "print(w)"
   ]
  },
  {
   "cell_type": "code",
   "execution_count": 62,
   "metadata": {},
   "outputs": [
    {
     "data": {
      "image/png": "[encoded data removed]",
      "text/plain": [
       "<Figure size 432x288 with 1 Axes>"
      ]
     },
     "metadata": {},
     "output_type": "display_data"
    }
   ],
   "source": [
    "xm = np.arange(-1, 6, 0.025)\n",
    "xlen = len(xm)\n",
    "ym = np.arange(0, 4, 0.025)\n",
    "ylen = len(ym)\n",
    "xm, ym = np.meshgrid(xm, ym)\n",
    "zm = sigmoid(w[0] + w[1]*xm + w[2]*ym)\n",
    "\n",
    "# filename = 'logistic_2d_2.pdf'\n",
    "# with PdfPages(filename) as pdf:\n",
    "CS = plt.contourf(xm, ym, zm, 200, cmap='jet')\n",
    "\n",
    "plt.plot(X0[:, 0], X0[:, 1], 'bs', markersize=8, alpha=1, markeredgecolor='w')\n",
    "plt.plot(X1[:, 0], X1[:, 1], 'ro', markersize=8, alpha=1, markeredgecolor='w')\n",
    "plt.axis('equal')\n",
    "plt.ylim(0, 4)\n",
    "plt.xlim(0, 5)\n",
    "\n",
    "# hide tikcs\n",
    "cur_axes = plt.gca()\n",
    "cur_axes.axes.get_xaxis().set_ticks([])\n",
    "cur_axes.axes.get_yaxis().set_ticks([])\n",
    "\n",
    "plt.xlabel('$x_1$', fontsize=20)\n",
    "plt.ylabel('$x_2$', fontsize=20)\n",
    "# plt.savefig('logistic_2d_2.png', bbox_inches='tight', dpi = 300)\n",
    "# pdf.savefig(bbox_inchs='tight')\n",
    "plt.show()\n"
   ]
  },
  {
   "cell_type": "markdown",
   "metadata": {},
   "source": [
    "# Logistic Regression cho bài toán phân biệt chữ số viết tay"
   ]
  },
  {
   "cell_type": "code",
   "execution_count": 3,
   "metadata": {},
   "outputs": [],
   "source": [
    "# for auto-reloading external modules\n",
    "# see http://stackoverflow.com/questions/1907993/autoreload-of-modules-in-ipython\n",
    "%load_ext autoreload\n",
    "%autoreload 2"
   ]
  },
  {
   "cell_type": "code",
   "execution_count": 4,
   "metadata": {},
   "outputs": [
    {
     "name": "stdout",
     "output_type": "stream",
     "text": [
      "Total 70000 digits, each has 784 pixels.\n"
     ]
    }
   ],
   "source": [
    "import numpy as np\n",
    "from sklearn.datasets import fetch_openml\n",
    "from sklearn.model_selection import train_test_split\n",
    "from sklearn.linear_model import LogisticRegression \n",
    "from sklearn.metrics import accuracy_score\n",
    "\n",
    "data_dir = '/AIWorkplace/MLCB/logistic regression/data' # path to your data folder\n",
    "mnist = fetch_openml('mnist_784', data_home=data_dir)\n",
    "N, d = mnist.data.shape\n",
    "print('Total {:d} digits, each has {:d} pixels.'.format(N, d))"
   ]
  },
  {
   "cell_type": "code",
   "execution_count": 25,
   "metadata": {},
   "outputs": [],
   "source": [
    "X_all = mnist.data.values\n",
    "y_all = mnist.target\n",
    "\n",
    "X0 = X_all[np.where(y_all == '0')[0]]\n",
    "X1 = X_all[np.where(y_all == '1')[0]]\n",
    "\n",
    "y0 = np.zeros(X0.shape[0])\n",
    "y1 = np.ones(X1.shape[0])\n",
    "\n",
    "X = np.concatenate((X0, X1), axis=0)\n",
    "y = np.concatenate((y0, y1), axis=0)\n",
    "\n",
    "X_train, X_test, y_train, y_test = train_test_split(X, y, test_size=2000)"
   ]
  },
  {
   "cell_type": "code",
   "execution_count": 28,
   "metadata": {},
   "outputs": [
    {
     "name": "stdout",
     "output_type": "stream",
     "text": [
      "Accuracy 99.85 %\n"
     ]
    }
   ],
   "source": [
    "model = LogisticRegression(C=1e5)\n",
    "model.fit(X_train, y_train)\n",
    "\n",
    "y_pred = model.predict(X_test)\n",
    "print(\"Accuracy %.2f %%\" % (100*accuracy_score(y_test, y_pred)))"
   ]
  },
  {
   "cell_type": "code",
   "execution_count": 30,
   "metadata": {},
   "outputs": [
    {
     "data": {
      "image/png": "[encoded data removed]",
      "text/plain": [
       "<Figure size 432x288 with 1 Axes>"
      ]
     },
     "metadata": {
      "needs_background": "light"
     },
     "output_type": "display_data"
    }
   ],
   "source": [
    "from display_network import *\n",
    "mis = np.where((y_pred - y_test) != 0)[0]\n",
    "Xmis = X_test[mis, :]\n",
    "\n",
    "# filename = 'mnist_mis.pdf'\n",
    "# with PdfPages(filename) as pdf:\n",
    "plt.axis('off')\n",
    "A = display_network(Xmis.T, 1, Xmis.shape[0])\n",
    "f2 = plt.imshow(A, interpolation='nearest')\n",
    "plt.gray()\n",
    "# pdf.savefig(bbox_inches='tight')\n",
    "plt.show()\n"
   ]
  },
  {
   "cell_type": "markdown",
   "metadata": {},
   "source": [
    "# multi class"
   ]
  },
  {
   "cell_type": "code",
   "execution_count": 36,
   "metadata": {},
   "outputs": [
    {
     "name": "stdout",
     "output_type": "stream",
     "text": [
      "Accuracy 91.26 %\n"
     ]
    },
    {
     "name": "stderr",
     "output_type": "stream",
     "text": [
      "c:\\Users\\ADMIN\\AppData\\Local\\Programs\\Python\\Python310\\lib\\site-packages\\sklearn\\linear_model\\_logistic.py:444: ConvergenceWarning: lbfgs failed to converge (status=1):\n",
      "STOP: TOTAL NO. of ITERATIONS REACHED LIMIT.\n",
      "\n",
      "Increase the number of iterations (max_iter) or scale the data as shown in:\n",
      "    https://scikit-learn.org/stable/modules/preprocessing.html\n",
      "Please also refer to the documentation for alternative solver options:\n",
      "    https://scikit-learn.org/stable/modules/linear_model.html#logistic-regression\n",
      "  n_iter_i = _check_optimize_result(\n"
     ]
    }
   ],
   "source": [
    "X_train, X_test, y_train, y_test = train_test_split(X_all, y_all, test_size=10000)\n",
    "model = LogisticRegression(C = 1e5, max_iter=2000) # C is inverse of lam \n",
    "model.fit(X_train, y_train)\n",
    "y_pred = model.predict(X_test)\n",
    "print(\"Accuracy %.2f %%\" % (100*accuracy_score(y_test, y_pred)))"
   ]
  },
  {
   "cell_type": "code",
   "execution_count": null,
   "metadata": {},
   "outputs": [],
   "source": []
  }
 ],
 "metadata": {
  "kernelspec": {
   "display_name": "Python 3.10.4 64-bit",
   "language": "python",
   "name": "python3"
  },
  "language_info": {
   "codemirror_mode": {
    "name": "ipython",
    "version": 3
   },
   "file_extension": ".py",
   "mimetype": "text/x-python",
   "name": "python",
   "nbconvert_exporter": "python",
   "pygments_lexer": "ipython3",
   "version": "3.10.4"
  },
  "orig_nbformat": 4,
  "vscode": {
   "interpreter": {
    "hash": "31671a60cee805c34c73116577b485118ff3a75c458d3004d49632c19702ac60"
   }
  }
 },
 "nbformat": 4,
 "nbformat_minor": 2
}
