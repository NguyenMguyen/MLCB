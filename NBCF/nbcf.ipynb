{
 "cells": [
  {
   "cell_type": "markdown",
   "metadata": {},
   "source": [
    "# neighborhood-based collaborative filtering"
   ]
  },
  {
   "cell_type": "code",
   "execution_count": 2,
   "metadata": {},
   "outputs": [],
   "source": [
    "import pandas as pd\n",
    "import numpy as np\n",
    "from sklearn.metrics.pairwise import cosine_similarity\n",
    "from scipy import sparse"
   ]
  },
  {
   "cell_type": "code",
   "execution_count": 14,
   "metadata": {},
   "outputs": [],
   "source": [
    "class uuCF(object):\n",
    "    def __init__(self, Y_data, k, sim_func=cosine_similarity):\n",
    "        # a 2d array of shape (n_users, 3)\n",
    "        # each row of Y_data has form [user_id, item_id, rating]\n",
    "        self.Y_data = Y_data\n",
    "        # number of neighborhood\n",
    "        self.k = k\n",
    "        # similarity function, default: cosine_similarity\n",
    "        self.sim_func = sim_func\n",
    "        # normalize data\n",
    "        self.Ybar = None\n",
    "        self.n_users = int(np.max(self.Y_data[:, 0])) + 1  # number of users\n",
    "        self.n_items = int(np.max(self.Y_data[:, 1])) + 1  # number of items\n",
    "\n",
    "    def fit(self):\n",
    "        users = self.Y_data[:, 0]  # all users - first col of the Y_data\n",
    "        self.Ybar = self.Y_data.copy()\n",
    "        self.mu = np.zeros((self.n_users,))\n",
    "\n",
    "        for n in range(self.n_users):\n",
    "            # row indices of ratings made by user n\n",
    "            ids = np.where(users == n)[0].astype(np.int32)\n",
    "            # indices of all items rated by user n\n",
    "            item_ids = self.Y_data[ids, 1]\n",
    "            ratings = self.Y_data[ids, 2]  # ratings made by user n\n",
    "            # avoid zero division\n",
    "            self.mu[n] = np.mean(ratings) if ids.size > 0 else 0\n",
    "            self.Ybar[ids, 2] = ratings - self.mu[n]\n",
    "\n",
    "        # form the rating matrix as a sparse matrix.\n",
    "        self.Ybar = sparse.coo_matrix(\n",
    "            (self.Ybar[:, 2], (self.Ybar[:, 1], self.Ybar[:, 0])), (self.n_items, self.n_users)).tocsr()\n",
    "        self.S = self.sim_func(self.Ybar.T, self.Ybar.T)\n",
    "\n",
    "    def pred(self, u, i):\n",
    "        \"\"\" predict the rating of user u for item i\"\"\"\n",
    "        # find item i\n",
    "        ids = np.where(self.Y_data[:, 1] == i)[0].astype(np.int32)\n",
    "        # all users who rated i\n",
    "        users_rated_i = self.Y_data[ids, 0].astype(np.int32)\n",
    "        # similarity of u and users who rated i\n",
    "        sim = self.S[u, users_rated_i]\n",
    "\n",
    "        # most k similar users\n",
    "        nns = np.argsort(sim)[-self.k:]\n",
    "        # and the corresponding similarities\n",
    "        nearest_s = sim[nns]\n",
    "        # the corresponding ratings\n",
    "        r = self.Ybar[i, users_rated_i[nns]]\n",
    "        # a small number to avoid zero division\n",
    "        eps = 1e-8\n",
    "        return (r*nearest_s).sum() / (np.abs(nearest_s).sum() + eps) + self.mu[u]\n"
   ]
  },
  {
   "cell_type": "markdown",
   "metadata": {},
   "source": [
    "## MovieLens"
   ]
  },
  {
   "cell_type": "code",
   "execution_count": 15,
   "metadata": {},
   "outputs": [],
   "source": [
    "r_cols = ['user_id', 'movie_id', 'rating', 'unix_timestamp']\n",
    "ratings_base = pd.read_csv('ml-100k/ua.base', sep='\\t', names=r_cols)\n",
    "ratings_test = pd.read_csv('ml-100k/ua.test', sep='\\t', names=r_cols)\n",
    "\n",
    "rate_train = ratings_base.to_numpy()\n",
    "rate_test = ratings_test.to_numpy()\n",
    "\n",
    "# indices start from 0\n",
    "rate_train[:, :2] -= 1\n",
    "rate_test[:, :2] -= 1"
   ]
  },
  {
   "cell_type": "code",
   "execution_count": 16,
   "metadata": {},
   "outputs": [
    {
     "name": "stdout",
     "output_type": "stream",
     "text": [
      "User-user CF, RMSE = 0.9766140289287265\n"
     ]
    }
   ],
   "source": [
    "rs = uuCF(rate_train, k = 40)\n",
    "rs.fit()\n",
    "\n",
    "n_tests = rate_test.shape[0]\n",
    "SE = 0 # squared error\n",
    "for n in range(n_tests):\n",
    "    pred = rs.pred(rate_test[n, 0], rate_test[n, 1])\n",
    "    SE += (pred - rate_test[n, 2])**2 \n",
    "\n",
    "RMSE = np.sqrt(SE/n_tests)\n",
    "print('User-user CF, RMSE =', RMSE)"
   ]
  },
  {
   "cell_type": "markdown",
   "metadata": {},
   "source": [
    "# item-item cf"
   ]
  },
  {
   "cell_type": "code",
   "execution_count": 17,
   "metadata": {},
   "outputs": [
    {
     "name": "stdout",
     "output_type": "stream",
     "text": [
      "Item-item CF, RMSE = 0.9688460838682366\n"
     ]
    }
   ],
   "source": [
    "rate_train = rate_train[:, [1, 0, 2]]\n",
    "rate_test  = rate_test[:, [1, 0, 2]]\n",
    "\n",
    "rs = uuCF(rate_train, k = 40)\n",
    "rs.fit()\n",
    "\n",
    "n_tests = rate_test.shape[0]\n",
    "SE = 0 # squared error\n",
    "for n in range(n_tests):\n",
    "    pred = rs.pred(rate_test[n, 0], rate_test[n, 1])\n",
    "    SE += (pred - rate_test[n, 2])**2 \n",
    "\n",
    "RMSE = np.sqrt(SE/n_tests)\n",
    "print('Item-item CF, RMSE =', RMSE)"
   ]
  },
  {
   "cell_type": "code",
   "execution_count": null,
   "metadata": {},
   "outputs": [],
   "source": []
  }
 ],
 "metadata": {
  "kernelspec": {
   "display_name": "Python 3.10.4 64-bit",
   "language": "python",
   "name": "python3"
  },
  "language_info": {
   "codemirror_mode": {
    "name": "ipython",
    "version": 3
   },
   "file_extension": ".py",
   "mimetype": "text/x-python",
   "name": "python",
   "nbconvert_exporter": "python",
   "pygments_lexer": "ipython3",
   "version": "3.10.4"
  },
  "orig_nbformat": 4,
  "vscode": {
   "interpreter": {
    "hash": "31671a60cee805c34c73116577b485118ff3a75c458d3004d49632c19702ac60"
   }
  }
 },
 "nbformat": 4,
 "nbformat_minor": 2
}
