{
 "cells": [
  {
   "cell_type": "code",
   "execution_count": 4,
   "metadata": {},
   "outputs": [],
   "source": [
    "import random\n",
    "import numpy as np\n",
    "from cs231n.data_utils import load_CIFAR10\n",
    "from sklearn.model_selection import train_test_split\n"
   ]
  },
  {
   "cell_type": "code",
   "execution_count": 5,
   "metadata": {},
   "outputs": [
    {
     "ename": "FileNotFoundError",
     "evalue": "[Errno 2] No such file or directory: 'cs231n/datasets/cifar-10-batches-py\\\\data_batch_1'",
     "output_type": "error",
     "traceback": [
      "\u001b[1;31m---------------------------------------------------------------------------\u001b[0m",
      "\u001b[1;31mFileNotFoundError\u001b[0m                         Traceback (most recent call last)",
      "\u001b[1;32me:\\AIWorkplace\\MLCB\\multiclass svm\\multiclass svm.ipynb Cell 2\u001b[0m in \u001b[0;36m<cell line: 3>\u001b[1;34m()\u001b[0m\n\u001b[0;32m      <a href='vscode-notebook-cell:/e%3A/AIWorkplace/MLCB/multiclass%20svm/multiclass%20svm.ipynb#W1sZmlsZQ%3D%3D?line=0'>1</a>\u001b[0m \u001b[39m# Load CIFAR 10 dataset\u001b[39;00m\n\u001b[0;32m      <a href='vscode-notebook-cell:/e%3A/AIWorkplace/MLCB/multiclass%20svm/multiclass%20svm.ipynb#W1sZmlsZQ%3D%3D?line=1'>2</a>\u001b[0m cifar10_dir \u001b[39m=\u001b[39m \u001b[39m'\u001b[39m\u001b[39mcs231n/datasets/cifar-10-batches-py\u001b[39m\u001b[39m'\u001b[39m\n\u001b[1;32m----> <a href='vscode-notebook-cell:/e%3A/AIWorkplace/MLCB/multiclass%20svm/multiclass%20svm.ipynb#W1sZmlsZQ%3D%3D?line=2'>3</a>\u001b[0m X_train, y_train, X_test, y_test \u001b[39m=\u001b[39m load_CIFAR10(cifar10_dir)\n\u001b[0;32m      <a href='vscode-notebook-cell:/e%3A/AIWorkplace/MLCB/multiclass%20svm/multiclass%20svm.ipynb#W1sZmlsZQ%3D%3D?line=4'>5</a>\u001b[0m \u001b[39m# Tạo một tập validation từ X_train \u001b[39;00m\n\u001b[0;32m      <a href='vscode-notebook-cell:/e%3A/AIWorkplace/MLCB/multiclass%20svm/multiclass%20svm.ipynb#W1sZmlsZQ%3D%3D?line=5'>6</a>\u001b[0m X_train, X_val, y_train, y_val \u001b[39m=\u001b[39m train_test_split(X_train, y_train, test_size\u001b[39m=\u001b[39m \u001b[39m1000\u001b[39m)\n",
      "File \u001b[1;32me:\\AIWorkplace\\MLCB\\multiclass svm\\cs231n\\data_utils.py:22\u001b[0m, in \u001b[0;36mload_CIFAR10\u001b[1;34m(ROOT)\u001b[0m\n\u001b[0;32m     20\u001b[0m for b in range(1,6):\n\u001b[0;32m     21\u001b[0m   f = os.path.join(ROOT, 'data_batch_%d' % (b, ))\n\u001b[1;32m---> 22\u001b[0m   X, Y = load_CIFAR_batch(f)\n\u001b[0;32m     23\u001b[0m   xs.append(X)\n\u001b[0;32m     24\u001b[0m   ys.append(Y)    \n",
      "File \u001b[1;32me:\\AIWorkplace\\MLCB\\multiclass svm\\cs231n\\data_utils.py:8\u001b[0m, in \u001b[0;36mload_CIFAR_batch\u001b[1;34m(filename)\u001b[0m\n\u001b[0;32m      6\u001b[0m def load_CIFAR_batch(filename):\n\u001b[0;32m      7\u001b[0m   \"\"\" load single batch of cifar \"\"\"\n\u001b[1;32m----> 8\u001b[0m   with open(filename, 'rb') as f:\n\u001b[0;32m      9\u001b[0m     datadict = pickle.load(f)\n\u001b[0;32m     10\u001b[0m     X = datadict['data']\n",
      "\u001b[1;31mFileNotFoundError\u001b[0m: [Errno 2] No such file or directory: 'cs231n/datasets/cifar-10-batches-py\\\\data_batch_1'"
     ]
    }
   ],
   "source": [
    "# Load CIFAR 10 dataset\n",
    "cifar10_dir = 'cs231n/datasets/cifar-10-batches-py'\n",
    "X_train, y_train, X_test, y_test = load_CIFAR10(cifar10_dir)\n",
    "\n",
    "# Tạo một tập validation từ X_train \n",
    "X_train, X_val, y_train, y_val = train_test_split(X_train, y_train, test_size= 1000)\n",
    "# print('(New) X_train shape = ', X_train.shape)\n",
    "# print('X_val shape         = ', X_val.shape)\n",
    "\n",
    "# Feature engineering \n",
    "# mean image of all training images\n",
    "img_mean = np.mean(X_train, axis = 0)\n",
    "\n",
    "def feature_engineering(X):\n",
    "    X -= img_mean # zero-centered\n",
    "    N = X.shape[0] # number of data point \n",
    "    X = X.reshape(N, -1) # vectorizetion \n",
    "    return np.concatenate((X, np.ones((N, 1))), axis = 1) # bias trick \n",
    "\n",
    "X_train = feature_engineering(X_train)\n",
    "X_val = feature_engineering(X_val)\n",
    "X_test = feature_engineering(X_test)\n",
    "\n",
    "print('X_train shape       = ', X_train.shape)\n",
    "print('X_val shape         = ', X_val.shape)\n",
    "print('X_test shape        = ', X_test.shape)"
   ]
  }
 ],
 "metadata": {
  "kernelspec": {
   "display_name": "Python 3.10.4 64-bit",
   "language": "python",
   "name": "python3"
  },
  "language_info": {
   "codemirror_mode": {
    "name": "ipython",
    "version": 3
   },
   "file_extension": ".py",
   "mimetype": "text/x-python",
   "name": "python",
   "nbconvert_exporter": "python",
   "pygments_lexer": "ipython3",
   "version": "3.10.4"
  },
  "orig_nbformat": 4,
  "vscode": {
   "interpreter": {
    "hash": "31671a60cee805c34c73116577b485118ff3a75c458d3004d49632c19702ac60"
   }
  }
 },
 "nbformat": 4,
 "nbformat_minor": 2
}
