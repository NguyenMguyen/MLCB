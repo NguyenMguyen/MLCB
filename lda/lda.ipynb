{
 "cells": [
  {
   "cell_type": "code",
   "execution_count": 1,
   "metadata": {},
   "outputs": [],
   "source": [
    "import numpy as np\n",
    "import matplotlib.pyplot as plt\n"
   ]
  },
  {
   "cell_type": "code",
   "execution_count": 31,
   "metadata": {},
   "outputs": [],
   "source": [
    "np.random.seed(22)\n",
    "means = [[0, 5], [5, 0]]\n",
    "cov0 = [[4, 3], [3, 4]]\n",
    "cov1 = [[3, 1], [1, 1]]\n",
    "N0 = 50\n",
    "N1 = 40\n",
    "N = N0 + N1\n",
    "X0 = np.random.multivariate_normal(means[0], cov0, N0) # each row is a data point \n",
    "X1 = np.random.multivariate_normal(means[1], cov1, N1)"
   ]
  },
  {
   "cell_type": "code",
   "execution_count": 32,
   "metadata": {},
   "outputs": [
    {
     "data": {
      "image/png": "[encoded data removed]",
      "text/plain": [
       "<Figure size 432x288 with 1 Axes>"
      ]
     },
     "metadata": {
      "needs_background": "light"
     },
     "output_type": "display_data"
    }
   ],
   "source": [
    "# display\n",
    "# with PdfPages('data.pdf') as pdf:\n",
    "plt.scatter(X0[:, 0], X0[:, 1], color='blue', marker='s', alpha=.8,\n",
    "            label='class 1')\n",
    "plt.scatter(X1[:, 0], X1[:, 1], color='red', marker='o', alpha=.8,\n",
    "            label='class 2')\n",
    "plt.legend(loc='best', shadow=False, scatterpoints=1)\n",
    "\n",
    "# hide ticks\n",
    "cur_axes = plt.gca()\n",
    "# cur_axes.axes.get_xaxis().set_ticks([])\n",
    "# cur_axes.axes.get_yaxis().set_ticks([])\n",
    "plt.xlim([0, 1])\n",
    "plt.ylim([-10, 10])\n",
    "plt.axis('equal')\n",
    "\n",
    "# pdf.savefig()\n",
    "plt.show()\n"
   ]
  },
  {
   "cell_type": "code",
   "execution_count": 33,
   "metadata": {},
   "outputs": [],
   "source": [
    "# build S_B\n",
    "m0 = np.mean(X0.T, axis=1, keepdims=True)\n",
    "m1 = np.mean(X1.T, axis=1, keepdims=True)\n",
    "\n",
    "a = m0 - m1\n",
    "S_B = a.dot(a.T)\n",
    "\n",
    "# build S_W\n",
    "A = X0.T - np.tile(m0, (1, N0))\n",
    "B = X1.T - np.tile(m1, (1, N1))\n",
    "\n",
    "S_W = A.dot(A.T) + B.dot(B.T)"
   ]
  },
  {
   "cell_type": "code",
   "execution_count": 34,
   "metadata": {},
   "outputs": [
    {
     "name": "stdout",
     "output_type": "stream",
     "text": [
      "w =  [ 0.75091074 -0.66040371]\n"
     ]
    }
   ],
   "source": [
    "_, W = np.linalg.eig(np.linalg.inv(S_W).dot(S_B))\n",
    "w = W[:, 0]\n",
    "print('w = ', w)"
   ]
  },
  {
   "cell_type": "code",
   "execution_count": 35,
   "metadata": {},
   "outputs": [
    {
     "data": {
      "image/png": "[encoded data removed]",
      "text/plain": [
       "<Figure size 432x288 with 1 Axes>"
      ]
     },
     "metadata": {},
     "output_type": "display_data"
    }
   ],
   "source": [
    "# with PdfPages('res.pdf') as pdf:\n",
    "plt.scatter(X0[:, 0], X0[:, 1], color='blue', marker = 's', alpha=.8, \n",
    "            label='class 1')\n",
    "plt.scatter(X1[:, 0], X1[:, 1], color='red', marker = 'o', alpha=.8, \n",
    "            label='class 2')\n",
    "\n",
    "# plt.legend(loc = \"best\", fontsize = 17)\n",
    "cur_axes = plt.gca()\n",
    "cur_axes.axes.get_xaxis().set_ticks([])\n",
    "cur_axes.axes.get_yaxis().set_ticks([])\n",
    "plt.xlim([0, 1])\n",
    "plt.ylim([-10, 10])\n",
    "plt.axis('equal')\n",
    "# plt.arrow(5*w[0],5*w[1],-10*w[0],-10*w[1], shape='full', lw=1, length_includes_head=True, head_width=.31)\n",
    "plt.plot([-5*w[0], 6*w[0]], [-5*w[1], 6*w[1]], 'g', label = 'Solution by LDA')\n",
    "\n",
    "plt.legend(loc='best', shadow=False, scatterpoints=1, fontsize = 13)\n",
    "# pdf.savefig()\n",
    "plt.show()"
   ]
  },
  {
   "cell_type": "code",
   "execution_count": 36,
   "metadata": {},
   "outputs": [
    {
     "name": "stdout",
     "output_type": "stream",
     "text": [
      "w_sklearn =  [ 0.75091074 -0.66040371]\n"
     ]
    }
   ],
   "source": [
    "from sklearn.discriminant_analysis import LinearDiscriminantAnalysis\n",
    "X = np.concatenate((X0, X1))\n",
    "y = np.array([0]*N0 + [1]*N1)\n",
    "clf = LinearDiscriminantAnalysis()\n",
    "clf.fit(X, y)\n",
    "\n",
    "print('w_sklearn = ', clf.coef_[0]/np.linalg.norm(clf.coef_)) # normalize"
   ]
  },
  {
   "cell_type": "markdown",
   "metadata": {},
   "source": [
    "## Iris"
   ]
  },
  {
   "cell_type": "code",
   "execution_count": 37,
   "metadata": {},
   "outputs": [
    {
     "name": "stdout",
     "output_type": "stream",
     "text": [
      "LDA classifier 95.00\n",
      "LDA + SVM accuracy: 96.00 %\n",
      "PCA + SVM accuracy: 95.00 %\n"
     ]
    }
   ],
   "source": [
    "from sklearn.decomposition import PCA\n",
    "from sklearn import svm\n",
    "from sklearn.metrics import accuracy_score\n",
    "from sklearn.model_selection import train_test_split\n",
    "from sklearn import neighbors, datasets\n",
    "from sklearn.discriminant_analysis import LinearDiscriminantAnalysis\n",
    "\n",
    "iris = datasets.load_iris()\n",
    "iris_X = iris.data\n",
    "iris_y = iris.target\n",
    "\n",
    "X_train, X_test, y_train, y_test = train_test_split(\n",
    "    iris_X, iris_y, test_size=100)\n",
    "\n",
    "# dimensionality reduction by LDA\n",
    "clf = LinearDiscriminantAnalysis()\n",
    "clf.fit(X_train, y_train)\n",
    "y_pred = clf.predict(X_test)\n",
    "\n",
    "# print('Acc = %f/%f' %())\n",
    "print(\"LDA classifier %.2f\" % (100*accuracy_score(y_test, y_pred)))\n",
    "\n",
    "# Train a kernel SVM on projected data by LDA\n",
    "X_train_new = clf.transform(X_train)\n",
    "X_test_new = clf.transform(X_test)\n",
    "\n",
    "svm1 = svm.SVC(kernel='linear', gamma=1)\n",
    "svm1.fit(X_train_new, y_train)\n",
    "y_pred1 = svm1.predict(X_test_new)\n",
    "\n",
    "print(\"LDA + SVM accuracy: %.2f %%\" % (100*accuracy_score(y_test, y_pred1)))\n",
    "\n",
    "# Train a kernel SVM on projected data by PCA\n",
    "pca = PCA(n_components=2)  # K = 100\n",
    "pca.fit(X_train)\n",
    "X_train_new = pca.transform(X_train)\n",
    "X_test_new = pca.transform(X_test)\n",
    "\n",
    "svm1 = svm.SVC(kernel='linear', gamma=1)\n",
    "svm1.fit(X_train_new, y_train)\n",
    "y_pred2 = svm1.predict(X_test_new)\n",
    "\n",
    "print(\"PCA + SVM accuracy: %.2f %%\" % (100*accuracy_score(y_test, y_pred2)))\n"
   ]
  },
  {
   "cell_type": "markdown",
   "metadata": {},
   "source": [
    "## MNIST"
   ]
  },
  {
   "cell_type": "code",
   "execution_count": 39,
   "metadata": {},
   "outputs": [],
   "source": [
    "import numpy as np\n",
    "from sklearn import neighbors, datasets\n",
    "from sklearn.model_selection import train_test_split\n",
    "# https://pypi.python.org/pypi/python-mnist/\n",
    "\n",
    "# you need to download the MNIST dataset first\n",
    "# # at: http://yann.lecun.com/exdb/mnist/\n",
    "# mndata = MNIST('../MNIST/') # path to your MNIST folder \n",
    "# mndata.load_testing()\n",
    "# mndata.load_training()\n",
    "# X = mndata.test_images\n",
    "# # X_train = mndata.train_images\n",
    "# y = np.asarray(mndata.test_labels)\n",
    "# # y_train = np.asarray(mndata.train_labels)\n",
    "from sklearn.datasets import fetch_openml\n",
    "mnist = fetch_openml('mnist_784', data_home='E:\\AIWorkplace\\MLCB\\lda\\data')\n",
    "X = mnist.data \n",
    "y = mnist.target\n",
    "X_train, X_test, y_train, y_test = train_test_split(\n",
    "     X, y, test_size=1000)"
   ]
  },
  {
   "cell_type": "code",
   "execution_count": null,
   "metadata": {},
   "outputs": [],
   "source": []
  }
 ],
 "metadata": {
  "kernelspec": {
   "display_name": "Python 3.10.4 64-bit",
   "language": "python",
   "name": "python3"
  },
  "language_info": {
   "codemirror_mode": {
    "name": "ipython",
    "version": 3
   },
   "file_extension": ".py",
   "mimetype": "text/x-python",
   "name": "python",
   "nbconvert_exporter": "python",
   "pygments_lexer": "ipython3",
   "version": "3.10.4"
  },
  "orig_nbformat": 4,
  "vscode": {
   "interpreter": {
    "hash": "31671a60cee805c34c73116577b485118ff3a75c458d3004d49632c19702ac60"
   }
  }
 },
 "nbformat": 4,
 "nbformat_minor": 2
}
