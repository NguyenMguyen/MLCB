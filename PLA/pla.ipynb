{
 "cells": [
  {
   "cell_type": "code",
   "execution_count": 33,
   "metadata": {},
   "outputs": [],
   "source": [
    "import numpy as np\n",
    "import matplotlib.pyplot as plt"
   ]
  },
  {
   "cell_type": "code",
   "execution_count": 34,
   "metadata": {},
   "outputs": [],
   "source": [
    "def predict(w, X):\n",
    "    '''\n",
    "    predict label of each row of X, given w \n",
    "    X: a 2-d numpy array of shape (N, d), each row is a datapoint \n",
    "    w_init: a 1-d numpy array of shape (d)\n",
    "    '''\n",
    "    return np.sign(X.dot(w))\n",
    "\n",
    "def perceptron(X, y, w_init):\n",
    "    '''\n",
    "    perform perceptron learning algorithm\n",
    "    X: a 2-d numpy array of shape (N, d), each row is a datapoint \n",
    "    y: a 1-d numpy array of shape (N), label of each row of X. y[i] = 1/-1\n",
    "    w_init: a 1-d numpy array of shape (d)\n",
    "    '''\n",
    "    w = w_init\n",
    "    while True:\n",
    "        pred = predict(w, X)\n",
    "        # find indexes of misclassified points\n",
    "        mis_idxs = np.where(np.equal(pred, y) == False)[0]\n",
    "        # number of misclassified points\n",
    "        num_mis = mis_idxs.shape[0]\n",
    "        if num_mis == 0:\n",
    "            return w\n",
    "        # random pick one misclassified point\n",
    "        random_id = np.random.choice(mis_idxs, 1)[0]\n",
    "        # update w\n",
    "        w = w + y[random_id]*X[random_id]"
   ]
  },
  {
   "cell_type": "code",
   "execution_count": 35,
   "metadata": {},
   "outputs": [],
   "source": [
    "means = [[-1,0], [1, 0]]\n",
    "cov = [[.3, .2], [.2, .3]]\n",
    "N=10\n",
    "\n",
    "np.random.seed(2)\n",
    "X1 = np.random.multivariate_normal(means[0], cov, N)\n",
    "X2 = np.random.multivariate_normal(means[1], cov, N)\n",
    "\n",
    "X = np.concatenate((X1, X2), axis=0)\n",
    "y = np.concatenate((np.ones(N), -1*np.ones(N)))\n",
    "\n",
    "np.random.seed(73)\n",
    "Xbar = np.concatenate((np.ones((2*N, 1)), X), axis=1)\n",
    "w_init = np.random.randn(Xbar.shape[1])"
   ]
  },
  {
   "cell_type": "code",
   "execution_count": 36,
   "metadata": {},
   "outputs": [],
   "source": [
    "w = perceptron(Xbar, y, w_init)"
   ]
  },
  {
   "cell_type": "code",
   "execution_count": 37,
   "metadata": {},
   "outputs": [
    {
     "name": "stdout",
     "output_type": "stream",
     "text": [
      "[ 0.57681305 -2.52654515  1.61348129]\n"
     ]
    }
   ],
   "source": [
    "print(w)"
   ]
  },
  {
   "cell_type": "markdown",
   "metadata": {},
   "source": [
    "## visualize"
   ]
  },
  {
   "cell_type": "code",
   "execution_count": 38,
   "metadata": {},
   "outputs": [],
   "source": [
    "def viperceptron(X, y, w_init):\n",
    "    w = w_init\n",
    "    w_hist = [w]\n",
    "    mis_points = []\n",
    "    while True:\n",
    "        pred = predict(w, X)\n",
    "        mis_idxs = np.where(np.equal(pred, y) == False)[0]\n",
    "        num_mis = mis_idxs.shape[0]\n",
    "        if num_mis == 0:\n",
    "            return (w_hist, mis_points)\n",
    "        random_id = np.random.choice(mis_idxs, 1)[0]\n",
    "        mis_points.append(random_id)\n",
    "        w = w + y[random_id]*X[random_id]\n",
    "        w_hist.append(w)"
   ]
  },
  {
   "cell_type": "code",
   "execution_count": 39,
   "metadata": {},
   "outputs": [
    {
     "name": "stdout",
     "output_type": "stream",
     "text": [
      "0 4\n",
      "1 2\n",
      "2 6\n",
      "3 4\n",
      "4 5\n",
      "5 4\n",
      "6 3\n",
      "7 6\n",
      "8 12\n",
      "9 3\n",
      "10 5\n",
      "11 4\n",
      "12 5\n",
      "13 6\n",
      "14 8\n",
      "15 4\n",
      "16 8\n",
      "17 1\n",
      "18 9\n",
      "19 3\n",
      "20 6\n",
      "21 3\n",
      "22 1\n",
      "23 6\n",
      "24 2\n",
      "25 9\n",
      "26 1\n",
      "27 2\n",
      "28 7\n",
      "29 4\n",
      "30 7\n",
      "31 4\n",
      "32 10\n",
      "33 4\n",
      "34 5\n",
      "35 5\n",
      "36 7\n",
      "37 3\n",
      "38 4\n",
      "39 4\n",
      "40 4\n",
      "41 5\n",
      "42 3\n",
      "43 5\n",
      "44 4\n",
      "45 6\n",
      "46 7\n",
      "47 4\n",
      "48 5\n",
      "49 4\n",
      "50 3\n",
      "51 3\n",
      "52 1\n",
      "53 8\n",
      "54 3\n",
      "55 7\n",
      "56 4\n",
      "57 5\n",
      "58 4\n",
      "59 9\n",
      "60 4\n",
      "61 3\n",
      "62 4\n",
      "63 10\n",
      "64 1\n",
      "65 9\n",
      "66 2\n",
      "67 4\n",
      "68 6\n",
      "69 2\n",
      "70 5\n",
      "71 4\n",
      "72 8\n",
      "73 7\n",
      "74 5\n",
      "75 2\n",
      "76 5\n",
      "77 5\n",
      "78 5\n",
      "79 4\n",
      "80 3\n",
      "81 5\n",
      "82 2\n",
      "83 2\n",
      "84 4\n",
      "85 5\n",
      "86 4\n",
      "87 5\n",
      "88 8\n",
      "89 3\n",
      "90 8\n",
      "91 4\n",
      "92 3\n",
      "93 8\n",
      "94 5\n",
      "95 4\n",
      "96 5\n",
      "97 3\n",
      "98 3\n",
      "99 8\n"
     ]
    }
   ],
   "source": [
    "for i in range(100):\n",
    "    np.random.seed(i)\n",
    "\n",
    "    # Xbar\n",
    "    w_init = np.random.randn(Xbar.shape[1])\n",
    "    w_hist, m = viperceptron(Xbar, y, w_init)\n",
    "\n",
    "    print(i, len(w_hist))"
   ]
  },
  {
   "cell_type": "code",
   "execution_count": 40,
   "metadata": {},
   "outputs": [],
   "source": [
    "i = 73\n",
    "np.random.seed(i)\n",
    "w_init = np.random.randn(Xbar.shape[1])\n",
    "w_hist, m = viperceptron(Xbar, y, w_init)"
   ]
  },
  {
   "cell_type": "code",
   "execution_count": 41,
   "metadata": {},
   "outputs": [
    {
     "data": {
      "image/png": "[encoded data removed]",
      "text/plain": [
       "<Figure size 972x504 with 6 Axes>"
      ]
     },
     "metadata": {
      "needs_background": "light"
     },
     "output_type": "display_data"
    }
   ],
   "source": [
    "def draw_line(plt, w):\n",
    "    w0, w1, w2 = w[0], w[1], w[2]\n",
    "    if w2 != 0:\n",
    "        x11, x12 = -100, 100\n",
    "        return plt.plot([x11, x12], [-(w1*x11 + w0)/w2, -(w1*x12 + w0)/w2], 'k')\n",
    "    else:\n",
    "        x10 = -w0/w1\n",
    "        return plt.plot([x10, x10], [-100, 100], 'k')\n",
    "\n",
    "\n",
    "nrows = 2\n",
    "ncols = 3\n",
    "width = 4.5*ncols\n",
    "height = 3.5*nrows\n",
    "\n",
    "filename = 'pla_visualize1.png'\n",
    "plt.close('all')\n",
    "fig, axs = plt.subplots(nrows, ncols, figsize=(width, height))\n",
    "ids = range(7)\n",
    "\n",
    "for i, k in enumerate(ids[1:]):\n",
    "    r = i//ncols\n",
    "    c = i % ncols\n",
    "    str0 = 'iter {}/{}'.format(i+1, len(ids)-1)\n",
    "    # if nrows > 1:\n",
    "    axs[r, c].set_title(str0)\n",
    "    axs[r, c].plot(X1[:, 0], X1[:, 1], 'bs', markersize=8, alpha=.8)\n",
    "    axs[r, c].plot(X2[:, 0], X2[:, 1], 'ro', markersize=8, alpha=.8)\n",
    "    axs[r, c].plot(0, 0, 'k.', markersize=8, alpha=.8)\n",
    "    axs[r, c].axis([0, 6, -2, 4])\n",
    "    draw_line(axs[r, c], w_hist[k])\n",
    "    wx, wy = w_hist[k][1], w_hist[k][2]\n",
    "    axs[r, c].annotate('', xy=(wx, wy), xytext=(0, 0),\n",
    "                       arrowprops=dict(arrowstyle=\"simple\", connectionstyle=\"arc3\", ec='green', fc='green'))\n",
    "    if k < nrows*ncols:\n",
    "        xmis = X[m[k], 0]\n",
    "        ymis = X[m[k], 1]\n",
    "        # circle around the misclassified point\n",
    "        circle = plt.Circle((xmis, ymis), 0.2, color='k', fill=False)\n",
    "        axs[r, c].add_artist(circle)\n",
    "        # vector to xmis\n",
    "        axs[r, c].annotate('', xy=(xmis, ymis), xytext=(0, 0),\n",
    "                           arrowprops=dict(arrowstyle=\"simple\", connectionstyle=\"arc3\", ec='orange', fc='orange'))\n",
    "\n",
    "        if m[k] > 10:\n",
    "            # New w if the misclassified point is in red\n",
    "            axs[r, c].annotate('', xytext=(0, 0), xy=(wx - xmis, wy-ymis),\n",
    "                               arrowprops=dict(arrowstyle=\"simple\", connectionstyle=\"arc3\", ec='red', fc='red'))\n",
    "            # axs[r, c].annotate('local max', xy=(2, 1), xytext=(3, 1.5),\n",
    "            #     arrowprops=dict(facecolor='black', shrink=0.01, ''),\n",
    "            #         )\n",
    "        else:  # the misclassified point is in blue\n",
    "            axs[r, c].annotate('', xytext=(0, 0), xy=(wx + xmis, wy+ymis),\n",
    "                               arrowprops=dict(arrowstyle=\"simple\", connectionstyle=\"arc3\", ec='red', fc='red'))\n",
    "\n",
    "    axs[r, c].axis('scaled')\n",
    "    axs[r, c].axis([-3, 3, -1.5, 2.5])\n",
    "plt.savefig(filename, bbox_inches='tight', dpi=300)\n",
    "plt.show()\n"
   ]
  },
  {
   "cell_type": "code",
   "execution_count": null,
   "metadata": {},
   "outputs": [],
   "source": []
  }
 ],
 "metadata": {
  "kernelspec": {
   "display_name": "Python 3.10.4 64-bit",
   "language": "python",
   "name": "python3"
  },
  "language_info": {
   "codemirror_mode": {
    "name": "ipython",
    "version": 3
   },
   "file_extension": ".py",
   "mimetype": "text/x-python",
   "name": "python",
   "nbconvert_exporter": "python",
   "pygments_lexer": "ipython3",
   "version": "3.10.4"
  },
  "orig_nbformat": 4,
  "vscode": {
   "interpreter": {
    "hash": "31671a60cee805c34c73116577b485118ff3a75c458d3004d49632c19702ac60"
   }
  }
 },
 "nbformat": 4,
 "nbformat_minor": 2
}
